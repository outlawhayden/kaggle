{
 "cells": [
  {
   "cell_type": "markdown",
   "id": "2fcb9d6d-64ac-4870-9f0b-f8c5293b8a89",
   "metadata": {
    "tags": []
   },
   "source": [
    "# Microbusiness Density Forecasting\n",
    "--------\n",
    "Hayden Outlaw - Math/CS @ Tulane University, New Orleans\n",
    "Spring 2023\n",
    "\n",
    "[GITHUB](https://github.com/outlawhayden) | [EMAIL](haydenkoutlaw@gmail.com) | [LINKEDIN](https://linkedin.com/in/hayden-outlaw)"
   ]
  },
  {
   "cell_type": "markdown",
   "id": "7f10a77e-28e6-4f0c-9644-f3d8595169a1",
   "metadata": {
    "tags": []
   },
   "source": [
    "## Introduction"
   ]
  },
  {
   "cell_type": "markdown",
   "id": "1dd57379-768d-498b-a6fb-525c2a51b771",
   "metadata": {
    "tags": []
   },
   "source": [
    "### Competition Source"
   ]
  },
  {
   "cell_type": "markdown",
   "id": "f200faf7-d29f-4017-85f3-770e98ec576c",
   "metadata": {},
   "source": [
    "- This competition was published on Kaggle by GoDaddy, and submissions by other teams as well as more in-depth information about the sponsorship of this project can be found [here](https://www.kaggle.com/competitions/godaddy-microbusiness-density-forecasting/overview)"
   ]
  },
  {
   "cell_type": "markdown",
   "id": "e3c595a1-48b8-4a67-83d9-7246771dcdb0",
   "metadata": {},
   "source": [
    "### Competition Goal"
   ]
  },
  {
   "cell_type": "markdown",
   "id": "def1d769-dc92-4ed5-82bb-02836256f935",
   "metadata": {},
   "source": [
    "The goal of this competition is to predict monthly microbusiness density in a given area. You will develop an accurate model trained on U.S. county-level data.\n",
    "\n",
    "Your work will help policymakers gain visibility into microbusinesses, a growing trend of very small entities. Additional information will enable new policies and programs to improve the success and impact of these smallest of businesses."
   ]
  },
  {
   "cell_type": "markdown",
   "id": "2c2f0461-f3c2-4b87-b389-de5ee6c14c7b",
   "metadata": {},
   "source": [
    "### Context"
   ]
  },
  {
   "cell_type": "markdown",
   "id": "98431593-b28e-4f58-be3b-c37b46b81431",
   "metadata": {},
   "source": [
    "American policy leaders strive to develop economies that are more inclusive and resilient to downturns. They're also aware that with advances in technology, entrepreneurship has never been more accessible than it is today. Whether to create a more appropriate work/life balance, to follow a passion, or due to loss of employment, studies have demonstrated that Americans increasingly choose to create businesses of their own to meet their financial goals. The challenge is that these \"microbusinesses\" are often too small or too new to show up in traditional economic data sources, making it nearly impossible for policymakers to study them. But data science could help fill in the gaps and provide insights into the factors associated these businesses.\n",
    "\n",
    "Over the past few years the Venture Forward team at GoDaddy has worked hard to produce data assets about the tens of millions of microbusinesses in the United States. Microbusinesses are generally defined as businesses with an online presence and ten or fewer employees. GoDaddy has visibility into more than 20 million of them, owned by more than 10 million entrepreneurs. We've surveyed this universe of microbusiness owners for several years and have collected a great deal of information on them that you can access via our survey data here.\n",
    "\n",
    "Current models leverage available internal and census data, use econometric approaches, and focus on understanding primary determinants. While these methods are adequate, there's potential to include additional data and using more advanced approaches to improve predictions and to better inform decision-making.\n",
    "\n",
    "Competition host GoDaddy is the world’s largest services platform for entrepreneurs around the globe. They're on a mission to empower their worldwide community of 20+ million customers—and entrepreneurs everywhere—by giving them all the help and tools they need to grow online.\n",
    "\n",
    "Your work will help better inform policymakers as they strive to make the world a better place for microbusiness entrepreneurs. This will have a real and substantial impact on communities across the country and will help our broader economy adapt to a constantly evolving world."
   ]
  },
  {
   "cell_type": "markdown",
   "id": "faf56c9b-be29-4f87-a4b3-3ba2b9f9aa27",
   "metadata": {
    "tags": []
   },
   "source": [
    "## Data Sources\n",
    "-------\n",
    "The data must first be read into Pandas Dataframe objects, so that they can be manipulated and investigated.\n",
    "\n",
    "\n",
    "### Data From Kaggle:\n",
    "------\n",
    "**train.csv**\n",
    "\n",
    "    row_id - An ID code for the row.\n",
    "    cfips - A unique identifier for each county using the Federal Information Processing System. The first two digits correspond to the state FIPS code, while the following 3 represent the county.\n",
    "    county_name - The written name of the county.\n",
    "    state_name - The name of the state.\n",
    "    first_day_of_month - The date of the first day of the month.\n",
    "    microbusiness_density - Microbusinesses per 100 people over the age of 18 in the given county. This is the target variable. The population figures used to calculate the density are on a two-year lag due to the pace of update provided by the U.S. Census Bureau, which provides the underlying population data annually. 2021 density figures are calculated using 2019 population figures, etc.\n",
    "    active - The raw count of microbusinesses in the county. Not provided for the test set.\n",
    "\n",
    "**sample_submission.csv** A valid sample submission. This file will remain unchanged throughout the competition.\n",
    "\n",
    "    row_id - An ID code for the row.\n",
    "    microbusiness_density - The target variable.\n",
    "\n",
    "**test.csv** Metadata for the submission rows. This file will remain unchanged throughout the competition.\n",
    "\n",
    "    row_id - An ID code for the row.\n",
    "    cfips - A unique identifier for each county using the Federal Information Processing System. The first two digits correspond to the state FIPS code, while the following 3 represent the county.\n",
    "    first_day_of_month - The date of the first day of the month.\n",
    "\n",
    "**revealed_test.csv** During the submission period, only the most recent month of data will be used for the public leaderboard. Any test set data older than that will be published in revealed_test.csv, closely following the usual data release cycle for the microbusiness report. We expect to publish one copy of revealed_test.csv in mid February. This file's schema will match train.csv.\n",
    "\n",
    "**census_starter.csv** Examples of useful columns from the Census Bureau's American Community Survey (ACS) at data.census.gov. The percentage fields were derived from the raw counts provided by the ACS. All fields have a two year lag to match what information was avaiable at the time a given microbusiness data update was published.\n",
    "\n",
    "    pct_bb_[year] - The percentage of households in the county with access to broadband of any type. Derived from ACS table B28002: PRESENCE AND TYPES OF INTERNET SUBSCRIPTIONS IN HOUSEHOLD.\n",
    "    cfips - The CFIPS code.\n",
    "    pct_college_[year] - The percent of the population in the county over age 25 with a 4-year college degree. Derived from ACS table S1501: EDUCATIONAL ATTAINMENT.\n",
    "    pct_foreign_born_[year] - The percent of the population in the county born outside of the United States. Derived from ACS table DP02: SELECTED SOCIAL CHARACTERISTICS IN THE UNITED STATES.\n",
    "    pct_it_workers_[year] - The percent of the workforce in the county employed in information related industries. Derived from ACS table S2405: INDUSTRY BY OCCUPATION FOR THE CIVILIAN EMPLOYED POPULATION 16 YEARS AND OVER.\n",
    "    median_hh_inc_[year] - The median household income in the county. Derived from ACS table S1901: INCOME IN THE PAST 12 MONTHS (IN 2021 INFLATION-ADJUSTED DOLLARS).\n",
    "\n",
    "\n"
   ]
  },
  {
   "cell_type": "markdown",
   "id": "a83df111-6210-4072-b963-ad7044383eb8",
   "metadata": {
    "tags": []
   },
   "source": [
    "### Importing Libraries"
   ]
  },
  {
   "cell_type": "code",
   "execution_count": 40,
   "id": "8c56d912-f444-4ea4-b514-3cb90d983651",
   "metadata": {},
   "outputs": [],
   "source": [
    "import pandas as pd\n",
    "import os\n",
    "import numpy as np\n",
    "import seaborn as sns\n",
    "import matplotlib as mpl\n",
    "import matplotlib.pyplot as plt\n",
    "import sklearn as sk\n",
    "import xgboost as xgb\n",
    "\n",
    "sns.set_style('darkgrid')"
   ]
  },
  {
   "cell_type": "markdown",
   "id": "c7d52814-59ca-44eb-8385-d0d3441a3dcd",
   "metadata": {
    "tags": []
   },
   "source": [
    "### Reading in Data\n",
    "------\n",
    "Reading in data to dataframes from local files."
   ]
  },
  {
   "cell_type": "code",
   "execution_count": 41,
   "id": "96f61a1d-4788-4c25-adf6-3a033809f59f",
   "metadata": {},
   "outputs": [
    {
     "name": "stdout",
     "output_type": "stream",
     "text": [
      "/Users/haydenoutlaw/Documents/Projects/kaggle/microbusiness\n"
     ]
    }
   ],
   "source": [
    "# Get current working directory\n",
    "print(os.getcwd())"
   ]
  },
  {
   "cell_type": "code",
   "execution_count": 42,
   "id": "98efb0ff-c460-4bf7-abc0-bb36ffe5f7f2",
   "metadata": {},
   "outputs": [],
   "source": [
    "# Read in data into pandas dataframes\n",
    "test_csv = pd.read_csv('./data_/test.csv')\n",
    "train_csv = pd.read_csv('./data_/train.csv')\n",
    "census_starter_csv = pd.read_csv('./data_/census_starter.csv')\n",
    "sample_subission_csv = pd.read_csv('./data_/sample_submission.csv')"
   ]
  },
  {
   "cell_type": "code",
   "execution_count": 43,
   "id": "abe3a11c-95d6-4a11-bb99-969a5abc1582",
   "metadata": {},
   "outputs": [
    {
     "data": {
      "text/html": [
       "<div>\n",
       "<style scoped>\n",
       "    .dataframe tbody tr th:only-of-type {\n",
       "        vertical-align: middle;\n",
       "    }\n",
       "\n",
       "    .dataframe tbody tr th {\n",
       "        vertical-align: top;\n",
       "    }\n",
       "\n",
       "    .dataframe thead th {\n",
       "        text-align: right;\n",
       "    }\n",
       "</style>\n",
       "<table border=\"1\" class=\"dataframe\">\n",
       "  <thead>\n",
       "    <tr style=\"text-align: right;\">\n",
       "      <th></th>\n",
       "      <th>row_id</th>\n",
       "      <th>cfips</th>\n",
       "      <th>county</th>\n",
       "      <th>state</th>\n",
       "      <th>first_day_of_month</th>\n",
       "      <th>microbusiness_density</th>\n",
       "      <th>active</th>\n",
       "    </tr>\n",
       "  </thead>\n",
       "  <tbody>\n",
       "    <tr>\n",
       "      <th>0</th>\n",
       "      <td>1001_2019-08-01</td>\n",
       "      <td>1001</td>\n",
       "      <td>Autauga County</td>\n",
       "      <td>Alabama</td>\n",
       "      <td>2019-08-01</td>\n",
       "      <td>3.007682</td>\n",
       "      <td>1249</td>\n",
       "    </tr>\n",
       "    <tr>\n",
       "      <th>1</th>\n",
       "      <td>1001_2019-09-01</td>\n",
       "      <td>1001</td>\n",
       "      <td>Autauga County</td>\n",
       "      <td>Alabama</td>\n",
       "      <td>2019-09-01</td>\n",
       "      <td>2.884870</td>\n",
       "      <td>1198</td>\n",
       "    </tr>\n",
       "    <tr>\n",
       "      <th>2</th>\n",
       "      <td>1001_2019-10-01</td>\n",
       "      <td>1001</td>\n",
       "      <td>Autauga County</td>\n",
       "      <td>Alabama</td>\n",
       "      <td>2019-10-01</td>\n",
       "      <td>3.055843</td>\n",
       "      <td>1269</td>\n",
       "    </tr>\n",
       "    <tr>\n",
       "      <th>3</th>\n",
       "      <td>1001_2019-11-01</td>\n",
       "      <td>1001</td>\n",
       "      <td>Autauga County</td>\n",
       "      <td>Alabama</td>\n",
       "      <td>2019-11-01</td>\n",
       "      <td>2.993233</td>\n",
       "      <td>1243</td>\n",
       "    </tr>\n",
       "    <tr>\n",
       "      <th>4</th>\n",
       "      <td>1001_2019-12-01</td>\n",
       "      <td>1001</td>\n",
       "      <td>Autauga County</td>\n",
       "      <td>Alabama</td>\n",
       "      <td>2019-12-01</td>\n",
       "      <td>2.993233</td>\n",
       "      <td>1243</td>\n",
       "    </tr>\n",
       "  </tbody>\n",
       "</table>\n",
       "</div>"
      ],
      "text/plain": [
       "            row_id  cfips          county    state first_day_of_month  \\\n",
       "0  1001_2019-08-01   1001  Autauga County  Alabama         2019-08-01   \n",
       "1  1001_2019-09-01   1001  Autauga County  Alabama         2019-09-01   \n",
       "2  1001_2019-10-01   1001  Autauga County  Alabama         2019-10-01   \n",
       "3  1001_2019-11-01   1001  Autauga County  Alabama         2019-11-01   \n",
       "4  1001_2019-12-01   1001  Autauga County  Alabama         2019-12-01   \n",
       "\n",
       "   microbusiness_density  active  \n",
       "0               3.007682    1249  \n",
       "1               2.884870    1198  \n",
       "2               3.055843    1269  \n",
       "3               2.993233    1243  \n",
       "4               2.993233    1243  "
      ]
     },
     "execution_count": 43,
     "metadata": {},
     "output_type": "execute_result"
    }
   ],
   "source": [
    "train_csv.head()"
   ]
  },
  {
   "cell_type": "code",
   "execution_count": 44,
   "id": "6d1be763-0fb8-445d-9c50-70e682ce8434",
   "metadata": {},
   "outputs": [
    {
     "data": {
      "text/html": [
       "<div>\n",
       "<style scoped>\n",
       "    .dataframe tbody tr th:only-of-type {\n",
       "        vertical-align: middle;\n",
       "    }\n",
       "\n",
       "    .dataframe tbody tr th {\n",
       "        vertical-align: top;\n",
       "    }\n",
       "\n",
       "    .dataframe thead th {\n",
       "        text-align: right;\n",
       "    }\n",
       "</style>\n",
       "<table border=\"1\" class=\"dataframe\">\n",
       "  <thead>\n",
       "    <tr style=\"text-align: right;\">\n",
       "      <th></th>\n",
       "      <th>row_id</th>\n",
       "      <th>cfips</th>\n",
       "      <th>first_day_of_month</th>\n",
       "    </tr>\n",
       "  </thead>\n",
       "  <tbody>\n",
       "    <tr>\n",
       "      <th>0</th>\n",
       "      <td>1001_2022-11-01</td>\n",
       "      <td>1001</td>\n",
       "      <td>2022-11-01</td>\n",
       "    </tr>\n",
       "    <tr>\n",
       "      <th>1</th>\n",
       "      <td>1003_2022-11-01</td>\n",
       "      <td>1003</td>\n",
       "      <td>2022-11-01</td>\n",
       "    </tr>\n",
       "    <tr>\n",
       "      <th>2</th>\n",
       "      <td>1005_2022-11-01</td>\n",
       "      <td>1005</td>\n",
       "      <td>2022-11-01</td>\n",
       "    </tr>\n",
       "    <tr>\n",
       "      <th>3</th>\n",
       "      <td>1007_2022-11-01</td>\n",
       "      <td>1007</td>\n",
       "      <td>2022-11-01</td>\n",
       "    </tr>\n",
       "    <tr>\n",
       "      <th>4</th>\n",
       "      <td>1009_2022-11-01</td>\n",
       "      <td>1009</td>\n",
       "      <td>2022-11-01</td>\n",
       "    </tr>\n",
       "  </tbody>\n",
       "</table>\n",
       "</div>"
      ],
      "text/plain": [
       "            row_id  cfips first_day_of_month\n",
       "0  1001_2022-11-01   1001         2022-11-01\n",
       "1  1003_2022-11-01   1003         2022-11-01\n",
       "2  1005_2022-11-01   1005         2022-11-01\n",
       "3  1007_2022-11-01   1007         2022-11-01\n",
       "4  1009_2022-11-01   1009         2022-11-01"
      ]
     },
     "execution_count": 44,
     "metadata": {},
     "output_type": "execute_result"
    }
   ],
   "source": [
    "test_csv.head()"
   ]
  },
  {
   "cell_type": "markdown",
   "id": "a0ceeedb-cdd5-4cf7-bfad-735ecefcb60a",
   "metadata": {
    "tags": []
   },
   "source": [
    "### Data Cleaning\n",
    "-------\n",
    "Examining the data types, resetting indices, and examining for missing data. The data is already processed by Kaggle, so there are no missing data entries, and all data is stored as the appropriate datatype."
   ]
  },
  {
   "cell_type": "code",
   "execution_count": 45,
   "id": "01e8a1ec-090a-4cf9-b631-5d4136b9cb1b",
   "metadata": {},
   "outputs": [],
   "source": [
    "# Assign primary keys to table indices\n",
    "train_csv.set_index(\"row_id\", inplace = True)\n",
    "test_csv.set_index(\"row_id\", inplace = True)"
   ]
  },
  {
   "cell_type": "code",
   "execution_count": 46,
   "id": "91fdfe02-e5b6-4391-8c9f-f0fa00394ed1",
   "metadata": {},
   "outputs": [
    {
     "data": {
      "text/plain": [
       "cfips                      int64\n",
       "county                    object\n",
       "state                     object\n",
       "first_day_of_month        object\n",
       "microbusiness_density    float64\n",
       "active                     int64\n",
       "dtype: object"
      ]
     },
     "execution_count": 46,
     "metadata": {},
     "output_type": "execute_result"
    }
   ],
   "source": [
    "train_csv.dtypes"
   ]
  },
  {
   "cell_type": "code",
   "execution_count": 47,
   "id": "2399ed78-31be-4565-82fa-179657234332",
   "metadata": {},
   "outputs": [
    {
     "data": {
      "text/plain": [
       "cfips                  int64\n",
       "first_day_of_month    object\n",
       "dtype: object"
      ]
     },
     "execution_count": 47,
     "metadata": {},
     "output_type": "execute_result"
    }
   ],
   "source": [
    "test_csv.dtypes"
   ]
  },
  {
   "cell_type": "markdown",
   "id": "0e3c111f-6654-4a91-a21c-345e2670eab8",
   "metadata": {},
   "source": [
    "The dates are stored as objects, and will be converted to pandas datetime objects for time-series analysis. More information on datetime objects is available in documentation [here](https://pandas.pydata.org/docs/reference/api/pandas.to_datetime.html)."
   ]
  },
  {
   "cell_type": "code",
   "execution_count": 65,
   "id": "ee18582d-56df-4b02-8306-a9961f303384",
   "metadata": {},
   "outputs": [],
   "source": [
    "train_csv[\"first_day_of_month\"] = pd.to_datetime(train_csv[\"first_day_of_month\"].values)\n",
    "test_csv[\"first_day_of_month\"] = pd.to_datetime(test_csv[\"first_day_of_month\"].values)"
   ]
  },
  {
   "cell_type": "code",
   "execution_count": 66,
   "id": "ef29ebcf-4bfa-4716-8056-134dc4a63eb8",
   "metadata": {},
   "outputs": [
    {
     "data": {
      "text/plain": [
       "cfips                    0\n",
       "county                   0\n",
       "state                    0\n",
       "first_day_of_month       0\n",
       "microbusiness_density    0\n",
       "active                   0\n",
       "dtype: int64"
      ]
     },
     "execution_count": 66,
     "metadata": {},
     "output_type": "execute_result"
    }
   ],
   "source": [
    "train_csv.isna().sum()"
   ]
  },
  {
   "cell_type": "code",
   "execution_count": 67,
   "id": "f6e95274-04ed-4946-bfec-d8ebd0952e64",
   "metadata": {},
   "outputs": [
    {
     "data": {
      "text/plain": [
       "cfips                 0\n",
       "first_day_of_month    0\n",
       "dtype: int64"
      ]
     },
     "execution_count": 67,
     "metadata": {},
     "output_type": "execute_result"
    }
   ],
   "source": [
    "test_csv.isna().sum()"
   ]
  },
  {
   "cell_type": "markdown",
   "id": "75b8e42f-02fb-4d1e-b5e8-01e6d3300152",
   "metadata": {},
   "source": [
    "The data is entirely filled, and contains no missing values to handle in any column"
   ]
  },
  {
   "cell_type": "markdown",
   "id": "e4fa2b21-f2af-43fe-9854-a05572dae6ec",
   "metadata": {},
   "source": [
    "## Εxploratory Data Analysis"
   ]
  },
  {
   "cell_type": "code",
   "execution_count": 68,
   "id": "0c62b5da-8354-4c2b-af0c-f8d9ef05239d",
   "metadata": {},
   "outputs": [
    {
     "data": {
      "text/plain": [
       "Text(0.5, 1.01, 'Fig 1. Microbusiness Density, and Raw Microbusiness Counts Marginal Distributions')"
      ]
     },
     "execution_count": 68,
     "metadata": {},
     "output_type": "execute_result"
    },
    {
     "data": {
      "image/png": "[encoded data removed]",
      "text/plain": [
       "<Figure size 500x500 with 6 Axes>"
      ]
     },
     "metadata": {},
     "output_type": "display_data"
    }
   ],
   "source": [
    "# Create a few joint marginal distributions using seaborn's pairplot\n",
    "train_pairplot = sns.pairplot(train_csv[[\"microbusiness_density\",\"active\"]], markers=\"+\")\n",
    "train_pairplot.fig.suptitle(\"Fig 1. Microbusiness Density, and Raw Microbusiness Counts Marginal Distributions\", y = 1.01)"
   ]
  },
  {
   "cell_type": "code",
   "execution_count": 69,
   "id": "c2aab4bd-c4b4-410a-8ce4-3629e24b32e8",
   "metadata": {},
   "outputs": [
    {
     "data": {
      "text/plain": [
       "[Text(0.5, 0, 'Date'), Text(0, 0.5, 'Average Microbusiness Density')]"
      ]
     },
     "execution_count": 69,
     "metadata": {},
     "output_type": "execute_result"
    },
    {
     "data": {
      "image/png": "[encoded data removed]",
      "text/plain": [
       "<Figure size 640x480 with 1 Axes>"
      ]
     },
     "metadata": {},
     "output_type": "display_data"
    }
   ],
   "source": [
    "# Get average density per month\n",
    "by_date_avg = train_csv.groupby(\"first_day_of_month\").mean(numeric_only = True)\n",
    "\n",
    "# Plot data\n",
    "avg_mbd_time = sns.lineplot(data = by_date_avg, x = \"first_day_of_month\", y = \"microbusiness_density\")\n",
    "plt.xticks(rotation=45)\n",
    "plt.suptitle(\"Fig 2. Average Microbusiness Density Across Time\")\n",
    "avg_mbd_time.set(xlabel = \"Date\", ylabel = \"Average Microbusiness Density\")\n"
   ]
  },
  {
   "cell_type": "markdown",
   "id": "d7001361-0eff-48a3-a9d3-6746beac5e28",
   "metadata": {},
   "source": [
    "## Modeling\n",
    "-------\n",
    "The goal is to take in the known data, and predict microbusiness density in future settings. To do this, the data will be preprocessed, split into training and testing sests, and then plugged into various models to find the best possible regression system.\n",
    "\n",
    "Model Options:\n",
    "- [Elastic Net Regression:](https://scikit-learn.org/stable/modules/generated/sklearn.linear_model.ElasticNet.html) A regularized regression method that linearly combines the L1 and L2 penalties of the lasso and ridge methods\n",
    "- [Stochastic Gradient Descent:](https://scikit-learn.org/stable/modules/generated/sklearn.linear_model.SGDRegressor.html) A stochastic approximation of gradient descent optimization\n",
    "- [Kernel Ridge Regression:](https://scikit-learn.org/stable/modules/generated/sklearn.kernel_ridge.KernelRidge.html) A non-parametric technique to estimate the conditional expectation of a random variable\n",
    "- [Extreme Gradient Boosted Forest Regression:](https://xgboost.readthedocs.io/en/stable/): A boosted non-parametric decision forest used for regression prediction"
   ]
  },
  {
   "cell_type": "markdown",
   "id": "6d117777-39a2-4880-978a-281b6f8a242c",
   "metadata": {},
   "source": [
    "### Preprocessing"
   ]
  },
  {
   "cell_type": "code",
   "execution_count": 81,
   "id": "f2bf7501-b7ce-43d4-9155-333fbb1bcb3f",
   "metadata": {},
   "outputs": [],
   "source": [
    "# Convert datetimes into ordinal days for modeling\n",
    "train_csv[\"days_since_beginning\"] = train_csv[\"first_day_of_month\"].apply(lambda x: x.toordinal())\n",
    "test_csv[\"days_since_beginning\"] = test_csv[\"first_day_of_month\"].apply(lambda x: x.toordinal())"
   ]
  },
  {
   "cell_type": "code",
   "execution_count": 82,
   "id": "41091a0c-68ce-4440-8cc4-9b22353e27c6",
   "metadata": {},
   "outputs": [],
   "source": [
    "# Split into training and testing\n",
    "from sklearn.model_selection import train_test_split\n",
    "\n",
    "X = train_csv[[\"cfips\", \"county\", \"state\", \"days_since_beginning\", \"active\"]]\n",
    "X = pd.get_dummies(X, columns = [\"county\", \"state\"])\n",
    "y = train_csv[\"microbusiness_density\"]\n",
    "\n",
    "X_train, X_test, y_train, y_test = train_test_split(X, y, test_size = 0.33, random_state = 22)"
   ]
  },
  {
   "cell_type": "code",
   "execution_count": 83,
   "id": "8e53fdc4-18b4-451e-bdae-faa9170a8d77",
   "metadata": {},
   "outputs": [
    {
     "data": {
      "text/plain": [
       "array([[-0.80519408, -0.62430902, -0.1660173 , ..., -0.1329599 ,\n",
       "        -0.15388628, -0.08668806],\n",
       "       [-1.60512765,  1.50972116, -0.12509253, ..., -0.1329599 ,\n",
       "        -0.15388628, -0.08668806],\n",
       "       [ 0.77672668, -0.44598595, -0.17735537, ..., -0.1329599 ,\n",
       "        -0.15388628, -0.08668806],\n",
       "       ...,\n",
       "       [ 1.10108114, -0.26766288, -0.1802572 , ..., -0.1329599 ,\n",
       "        -0.15388628, -0.08668806],\n",
       "       [ 1.63524991,  0.53332927, -0.17843234, ..., -0.1329599 ,\n",
       "         6.49830504, -0.08668806],\n",
       "       [ 1.29783154,  1.33139809,  0.23646945, ..., -0.1329599 ,\n",
       "        -0.15388628, -0.08668806]])"
      ]
     },
     "execution_count": 83,
     "metadata": {},
     "output_type": "execute_result"
    }
   ],
   "source": [
    "# StandardScaler\n",
    "from sklearn.preprocessing import StandardScaler\n",
    "\n",
    "scaler = StandardScaler()\n",
    "scaler.fit_transform(X_train, y_train)"
   ]
  },
  {
   "cell_type": "markdown",
   "id": "fd78b02a-cb4c-4d25-bcb9-cfb3ecb78948",
   "metadata": {},
   "source": [
    "### Model Selection\n",
    "-----\n",
    "Various models will be tried, and ranked on their ability to predict future unseen data. From this ranking, the best one will be selected, and then tuned. "
   ]
  },
  {
   "cell_type": "code",
   "execution_count": 84,
   "id": "45b22e3e-b6bf-43af-b9e3-7e8edb3614a7",
   "metadata": {},
   "outputs": [],
   "source": [
    "from sklearn.model_selection import GridSearchCV"
   ]
  },
  {
   "cell_type": "code",
   "execution_count": 85,
   "id": "1d2085f6-2a7c-4a21-949c-f37c5052b747",
   "metadata": {},
   "outputs": [],
   "source": [
    "# ElasticNet\n",
    "from sklearn.linear_model import ElasticNet\n",
    "\n",
    "elastic_parameters = {'sample_weight': ('None')}"
   ]
  },
  {
   "cell_type": "code",
   "execution_count": 87,
   "id": "de849419-9aa9-4daa-b999-11bcc749588f",
   "metadata": {},
   "outputs": [],
   "source": [
    "# Stochastic Gradient Descent\n",
    "from sklearn.linear_model import SGDRegressor\n",
    "\n",
    "sgd_parameters = {\n",
    "'loss': ('squared_error'),\n",
    "'penalty':[\"elasticnet\"],\n",
    "'shuffle': [\"True\"],\n",
    "'random_state': [0],\n",
    "'learning_rate': [\"adaptive\", \"invscaling\"],\n",
    "'early_stopping':[False, True],\n",
    "'max_iter' : [1000, 3000, 5000, 10000, 200000]\n",
    "}"
   ]
  },
  {
   "cell_type": "code",
   "execution_count": 89,
   "id": "2c20fecc-2969-4197-8d94-0dd5d615872a",
   "metadata": {},
   "outputs": [],
   "source": [
    "# KernelRidge Regression\n",
    "from sklearn.kernel_ridge import KernelRidge\n",
    "\n",
    "kr_parameters = {\n",
    "'alpha' : [0.01, 0.1, 0.5, 1.0, 2.0, 10.0],\n",
    "'degree' :[3,4,5,6,7,8,9,10],\n",
    "}"
   ]
  },
  {
   "cell_type": "code",
   "execution_count": 88,
   "id": "7d06afb6-e6dd-4644-a41c-2f3208ec79f5",
   "metadata": {},
   "outputs": [],
   "source": [
    "# XGB Forest Regression\n",
    "from xgboost.sklearn import XGBRegressor\n",
    "\n",
    "xgb_parameters = {\n",
    "'booster': [\"gbtree\",\"gblinear\",\"dart\"],\n",
    "'eta': [0.1,0.2,0.3,0.4,0.5],\n",
    "\"gamma\":[0, 0.001, 0.01, 0.05, 0.1, 0.5],\n",
    "\"max_depth\":[2,3,4,5,6,7,8],\n",
    "'subsample':[0.2,0.4,0.5,0.7,1],\n",
    "'lambda':[1,1.5,2,2.5,3],\n",
    "'alpha':[0,0.001,0.005,0.01, 0.05, 0.1]\n",
    "}"
   ]
  },
  {
   "cell_type": "code",
   "execution_count": null,
   "id": "b250aa82-6efb-43fe-a989-01fab6005960",
   "metadata": {},
   "outputs": [],
   "source": []
  }
 ],
 "metadata": {
  "kernelspec": {
   "display_name": "Python 3 (ipykernel)",
   "language": "python",
   "name": "python3"
  },
  "language_info": {
   "codemirror_mode": {
    "name": "ipython",
    "version": 3
   },
   "file_extension": ".py",
   "mimetype": "text/x-python",
   "name": "python",
   "nbconvert_exporter": "python",
   "pygments_lexer": "ipython3",
   "version": "3.8.13"
  }
 },
 "nbformat": 4,
 "nbformat_minor": 5
}
