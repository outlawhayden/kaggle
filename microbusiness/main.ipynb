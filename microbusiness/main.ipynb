{
 "cells": [
  {
   "cell_type": "markdown",
   "id": "2fcb9d6d-64ac-4870-9f0b-f8c5293b8a89",
   "metadata": {
    "tags": []
   },
   "source": [
    "# Microbusiness Density Forecasting\n",
    "--------\n",
    "Hayden Outlaw - Math/CS @ Tulane University, New Orleans\n",
    "Spring 2023\n",
    "\n",
    "[GITHUB](https://github.com/outlawhayden) | [EMAIL](haydenkoutlaw@gmail.com) | [LINKEDIN](https://linkedin.com/in/hayden-outlaw)"
   ]
  },
  {
   "cell_type": "markdown",
   "id": "7f10a77e-28e6-4f0c-9644-f3d8595169a1",
   "metadata": {
    "jp-MarkdownHeadingCollapsed": true,
    "tags": []
   },
   "source": [
    "# Introduction"
   ]
  },
  {
   "cell_type": "markdown",
   "id": "1dd57379-768d-498b-a6fb-525c2a51b771",
   "metadata": {
    "tags": []
   },
   "source": [
    "## Competition Source"
   ]
  },
  {
   "cell_type": "markdown",
   "id": "f200faf7-d29f-4017-85f3-770e98ec576c",
   "metadata": {},
   "source": [
    "- This competition was published on Kaggle by GoDaddy, and submissions by other teams as well as more in-depth information about the sponsorship of this project can be found [here](https://www.kaggle.com/competitions/godaddy-microbusiness-density-forecasting/overview)"
   ]
  },
  {
   "cell_type": "markdown",
   "id": "e3c595a1-48b8-4a67-83d9-7246771dcdb0",
   "metadata": {},
   "source": [
    "## Competition Goal"
   ]
  },
  {
   "cell_type": "markdown",
   "id": "def1d769-dc92-4ed5-82bb-02836256f935",
   "metadata": {},
   "source": [
    "The goal of this competition is to predict monthly microbusiness density in a given area. You will develop an accurate model trained on U.S. county-level data.\n",
    "\n",
    "Your work will help policymakers gain visibility into microbusinesses, a growing trend of very small entities. Additional information will enable new policies and programs to improve the success and impact of these smallest of businesses."
   ]
  },
  {
   "cell_type": "markdown",
   "id": "2c2f0461-f3c2-4b87-b389-de5ee6c14c7b",
   "metadata": {},
   "source": [
    "## Context"
   ]
  },
  {
   "cell_type": "markdown",
   "id": "98431593-b28e-4f58-be3b-c37b46b81431",
   "metadata": {},
   "source": [
    "American policy leaders strive to develop economies that are more inclusive and resilient to downturns. They're also aware that with advances in technology, entrepreneurship has never been more accessible than it is today. Whether to create a more appropriate work/life balance, to follow a passion, or due to loss of employment, studies have demonstrated that Americans increasingly choose to create businesses of their own to meet their financial goals. The challenge is that these \"microbusinesses\" are often too small or too new to show up in traditional economic data sources, making it nearly impossible for policymakers to study them. But data science could help fill in the gaps and provide insights into the factors associated these businesses.\n",
    "\n",
    "Over the past few years the Venture Forward team at GoDaddy has worked hard to produce data assets about the tens of millions of microbusinesses in the United States. Microbusinesses are generally defined as businesses with an online presence and ten or fewer employees. GoDaddy has visibility into more than 20 million of them, owned by more than 10 million entrepreneurs. We've surveyed this universe of microbusiness owners for several years and have collected a great deal of information on them that you can access via our survey data here.\n",
    "\n",
    "Current models leverage available internal and census data, use econometric approaches, and focus on understanding primary determinants. While these methods are adequate, there's potential to include additional data and using more advanced approaches to improve predictions and to better inform decision-making.\n",
    "\n",
    "Competition host GoDaddy is the world’s largest services platform for entrepreneurs around the globe. They're on a mission to empower their worldwide community of 20+ million customers—and entrepreneurs everywhere—by giving them all the help and tools they need to grow online.\n",
    "\n",
    "Your work will help better inform policymakers as they strive to make the world a better place for microbusiness entrepreneurs. This will have a real and substantial impact on communities across the country and will help our broader economy adapt to a constantly evolving world."
   ]
  },
  {
   "cell_type": "markdown",
   "id": "faf56c9b-be29-4f87-a4b3-3ba2b9f9aa27",
   "metadata": {
    "tags": []
   },
   "source": [
    "# Data Sources\n",
    "-------\n",
    "The data must first be read into Pandas Dataframe objects, so that they can be manipulated and investigated.\n",
    "\n",
    "\n",
    "### Data From Kaggle:\n",
    "------\n",
    "**train.csv**\n",
    "\n",
    "    row_id - An ID code for the row.\n",
    "    cfips - A unique identifier for each county using the Federal Information Processing System. The first two digits correspond to the state FIPS code, while the following 3 represent the county.\n",
    "    county_name - The written name of the county.\n",
    "    state_name - The name of the state.\n",
    "    first_day_of_month - The date of the first day of the month.\n",
    "    microbusiness_density - Microbusinesses per 100 people over the age of 18 in the given county. This is the target variable. The population figures used to calculate the density are on a two-year lag due to the pace of update provided by the U.S. Census Bureau, which provides the underlying population data annually. 2021 density figures are calculated using 2019 population figures, etc.\n",
    "    active - The raw count of microbusinesses in the county. Not provided for the test set.\n",
    "\n",
    "**sample_submission.csv** A valid sample submission. This file will remain unchanged throughout the competition.\n",
    "\n",
    "    row_id - An ID code for the row.\n",
    "    microbusiness_density - The target variable.\n",
    "\n",
    "**test.csv** Metadata for the submission rows. This file will remain unchanged throughout the competition.\n",
    "\n",
    "    row_id - An ID code for the row.\n",
    "    cfips - A unique identifier for each county using the Federal Information Processing System. The first two digits correspond to the state FIPS code, while the following 3 represent the county.\n",
    "    first_day_of_month - The date of the first day of the month.\n",
    "\n",
    "**revealed_test.csv** During the submission period, only the most recent month of data will be used for the public leaderboard. Any test set data older than that will be published in revealed_test.csv, closely following the usual data release cycle for the microbusiness report. We expect to publish one copy of revealed_test.csv in mid February. This file's schema will match train.csv.\n",
    "\n",
    "**census_starter.csv** Examples of useful columns from the Census Bureau's American Community Survey (ACS) at data.census.gov. The percentage fields were derived from the raw counts provided by the ACS. All fields have a two year lag to match what information was avaiable at the time a given microbusiness data update was published.\n",
    "\n",
    "    pct_bb_[year] - The percentage of households in the county with access to broadband of any type. Derived from ACS table B28002: PRESENCE AND TYPES OF INTERNET SUBSCRIPTIONS IN HOUSEHOLD.\n",
    "    cfips - The CFIPS code.\n",
    "    pct_college_[year] - The percent of the population in the county over age 25 with a 4-year college degree. Derived from ACS table S1501: EDUCATIONAL ATTAINMENT.\n",
    "    pct_foreign_born_[year] - The percent of the population in the county born outside of the United States. Derived from ACS table DP02: SELECTED SOCIAL CHARACTERISTICS IN THE UNITED STATES.\n",
    "    pct_it_workers_[year] - The percent of the workforce in the county employed in information related industries. Derived from ACS table S2405: INDUSTRY BY OCCUPATION FOR THE CIVILIAN EMPLOYED POPULATION 16 YEARS AND OVER.\n",
    "    median_hh_inc_[year] - The median household income in the county. Derived from ACS table S1901: INCOME IN THE PAST 12 MONTHS (IN 2021 INFLATION-ADJUSTED DOLLARS).\n",
    "\n",
    "\n"
   ]
  },
  {
   "cell_type": "markdown",
   "id": "a83df111-6210-4072-b963-ad7044383eb8",
   "metadata": {
    "jp-MarkdownHeadingCollapsed": true,
    "tags": []
   },
   "source": [
    "## Importing Libraries"
   ]
  },
  {
   "cell_type": "code",
   "execution_count": 24,
   "id": "8c56d912-f444-4ea4-b514-3cb90d983651",
   "metadata": {},
   "outputs": [],
   "source": [
    "import pandas as pd\n",
    "import os\n",
    "import numpy as np\n",
    "import seaborn as sns"
   ]
  },
  {
   "cell_type": "markdown",
   "id": "c7d52814-59ca-44eb-8385-d0d3441a3dcd",
   "metadata": {
    "jp-MarkdownHeadingCollapsed": true,
    "tags": []
   },
   "source": [
    "## Reading in Data\n",
    "------\n",
    "Reading in data to dataframes from local files."
   ]
  },
  {
   "cell_type": "code",
   "execution_count": 25,
   "id": "96f61a1d-4788-4c25-adf6-3a033809f59f",
   "metadata": {},
   "outputs": [
    {
     "name": "stdout",
     "output_type": "stream",
     "text": [
      "/Users/haydenoutlaw/Documents/Projects/kaggle/microbusiness\n"
     ]
    }
   ],
   "source": [
    "# Get current working directory\n",
    "print(os.getcwd())"
   ]
  },
  {
   "cell_type": "code",
   "execution_count": 26,
   "id": "98efb0ff-c460-4bf7-abc0-bb36ffe5f7f2",
   "metadata": {},
   "outputs": [],
   "source": [
    "# Read in data into pandas dataframes\n",
    "test_csv = pd.read_csv('./data_/test.csv')\n",
    "train_csv = pd.read_csv('./data_/train.csv')\n",
    "census_starter_csv = pd.read_csv('./data_/census_starter.csv')\n",
    "sample_subission_csv = pd.read_csv('./data_/sample_submission.csv')"
   ]
  },
  {
   "cell_type": "code",
   "execution_count": 27,
   "id": "abe3a11c-95d6-4a11-bb99-969a5abc1582",
   "metadata": {},
   "outputs": [
    {
     "data": {
      "text/html": [
       "<div>\n",
       "<style scoped>\n",
       "    .dataframe tbody tr th:only-of-type {\n",
       "        vertical-align: middle;\n",
       "    }\n",
       "\n",
       "    .dataframe tbody tr th {\n",
       "        vertical-align: top;\n",
       "    }\n",
       "\n",
       "    .dataframe thead th {\n",
       "        text-align: right;\n",
       "    }\n",
       "</style>\n",
       "<table border=\"1\" class=\"dataframe\">\n",
       "  <thead>\n",
       "    <tr style=\"text-align: right;\">\n",
       "      <th></th>\n",
       "      <th>row_id</th>\n",
       "      <th>cfips</th>\n",
       "      <th>county</th>\n",
       "      <th>state</th>\n",
       "      <th>first_day_of_month</th>\n",
       "      <th>microbusiness_density</th>\n",
       "      <th>active</th>\n",
       "    </tr>\n",
       "  </thead>\n",
       "  <tbody>\n",
       "    <tr>\n",
       "      <th>0</th>\n",
       "      <td>1001_2019-08-01</td>\n",
       "      <td>1001</td>\n",
       "      <td>Autauga County</td>\n",
       "      <td>Alabama</td>\n",
       "      <td>2019-08-01</td>\n",
       "      <td>3.007682</td>\n",
       "      <td>1249</td>\n",
       "    </tr>\n",
       "    <tr>\n",
       "      <th>1</th>\n",
       "      <td>1001_2019-09-01</td>\n",
       "      <td>1001</td>\n",
       "      <td>Autauga County</td>\n",
       "      <td>Alabama</td>\n",
       "      <td>2019-09-01</td>\n",
       "      <td>2.884870</td>\n",
       "      <td>1198</td>\n",
       "    </tr>\n",
       "    <tr>\n",
       "      <th>2</th>\n",
       "      <td>1001_2019-10-01</td>\n",
       "      <td>1001</td>\n",
       "      <td>Autauga County</td>\n",
       "      <td>Alabama</td>\n",
       "      <td>2019-10-01</td>\n",
       "      <td>3.055843</td>\n",
       "      <td>1269</td>\n",
       "    </tr>\n",
       "    <tr>\n",
       "      <th>3</th>\n",
       "      <td>1001_2019-11-01</td>\n",
       "      <td>1001</td>\n",
       "      <td>Autauga County</td>\n",
       "      <td>Alabama</td>\n",
       "      <td>2019-11-01</td>\n",
       "      <td>2.993233</td>\n",
       "      <td>1243</td>\n",
       "    </tr>\n",
       "    <tr>\n",
       "      <th>4</th>\n",
       "      <td>1001_2019-12-01</td>\n",
       "      <td>1001</td>\n",
       "      <td>Autauga County</td>\n",
       "      <td>Alabama</td>\n",
       "      <td>2019-12-01</td>\n",
       "      <td>2.993233</td>\n",
       "      <td>1243</td>\n",
       "    </tr>\n",
       "  </tbody>\n",
       "</table>\n",
       "</div>"
      ],
      "text/plain": [
       "            row_id  cfips          county    state first_day_of_month  \\\n",
       "0  1001_2019-08-01   1001  Autauga County  Alabama         2019-08-01   \n",
       "1  1001_2019-09-01   1001  Autauga County  Alabama         2019-09-01   \n",
       "2  1001_2019-10-01   1001  Autauga County  Alabama         2019-10-01   \n",
       "3  1001_2019-11-01   1001  Autauga County  Alabama         2019-11-01   \n",
       "4  1001_2019-12-01   1001  Autauga County  Alabama         2019-12-01   \n",
       "\n",
       "   microbusiness_density  active  \n",
       "0               3.007682    1249  \n",
       "1               2.884870    1198  \n",
       "2               3.055843    1269  \n",
       "3               2.993233    1243  \n",
       "4               2.993233    1243  "
      ]
     },
     "execution_count": 27,
     "metadata": {},
     "output_type": "execute_result"
    }
   ],
   "source": [
    "train_csv.head()"
   ]
  },
  {
   "cell_type": "code",
   "execution_count": 28,
   "id": "6d1be763-0fb8-445d-9c50-70e682ce8434",
   "metadata": {},
   "outputs": [
    {
     "data": {
      "text/html": [
       "<div>\n",
       "<style scoped>\n",
       "    .dataframe tbody tr th:only-of-type {\n",
       "        vertical-align: middle;\n",
       "    }\n",
       "\n",
       "    .dataframe tbody tr th {\n",
       "        vertical-align: top;\n",
       "    }\n",
       "\n",
       "    .dataframe thead th {\n",
       "        text-align: right;\n",
       "    }\n",
       "</style>\n",
       "<table border=\"1\" class=\"dataframe\">\n",
       "  <thead>\n",
       "    <tr style=\"text-align: right;\">\n",
       "      <th></th>\n",
       "      <th>row_id</th>\n",
       "      <th>cfips</th>\n",
       "      <th>first_day_of_month</th>\n",
       "    </tr>\n",
       "  </thead>\n",
       "  <tbody>\n",
       "    <tr>\n",
       "      <th>0</th>\n",
       "      <td>1001_2022-11-01</td>\n",
       "      <td>1001</td>\n",
       "      <td>2022-11-01</td>\n",
       "    </tr>\n",
       "    <tr>\n",
       "      <th>1</th>\n",
       "      <td>1003_2022-11-01</td>\n",
       "      <td>1003</td>\n",
       "      <td>2022-11-01</td>\n",
       "    </tr>\n",
       "    <tr>\n",
       "      <th>2</th>\n",
       "      <td>1005_2022-11-01</td>\n",
       "      <td>1005</td>\n",
       "      <td>2022-11-01</td>\n",
       "    </tr>\n",
       "    <tr>\n",
       "      <th>3</th>\n",
       "      <td>1007_2022-11-01</td>\n",
       "      <td>1007</td>\n",
       "      <td>2022-11-01</td>\n",
       "    </tr>\n",
       "    <tr>\n",
       "      <th>4</th>\n",
       "      <td>1009_2022-11-01</td>\n",
       "      <td>1009</td>\n",
       "      <td>2022-11-01</td>\n",
       "    </tr>\n",
       "  </tbody>\n",
       "</table>\n",
       "</div>"
      ],
      "text/plain": [
       "            row_id  cfips first_day_of_month\n",
       "0  1001_2022-11-01   1001         2022-11-01\n",
       "1  1003_2022-11-01   1003         2022-11-01\n",
       "2  1005_2022-11-01   1005         2022-11-01\n",
       "3  1007_2022-11-01   1007         2022-11-01\n",
       "4  1009_2022-11-01   1009         2022-11-01"
      ]
     },
     "execution_count": 28,
     "metadata": {},
     "output_type": "execute_result"
    }
   ],
   "source": [
    "test_csv.head()"
   ]
  },
  {
   "cell_type": "markdown",
   "id": "a0ceeedb-cdd5-4cf7-bfad-735ecefcb60a",
   "metadata": {
    "tags": []
   },
   "source": [
    "## Data Cleaning\n",
    "-------\n",
    "Examining the data types, resetting indices, and examining for missing data. The data is already processed by Kaggle, so there are no missing data entries, and all data is stored as the appropriate datatype."
   ]
  },
  {
   "cell_type": "code",
   "execution_count": 29,
   "id": "01e8a1ec-090a-4cf9-b631-5d4136b9cb1b",
   "metadata": {},
   "outputs": [],
   "source": [
    "# Assign primary keys to table indices\n",
    "train_csv.set_index(\"row_id\", inplace = True)\n",
    "test_csv.set_index(\"row_id\", inplace = True)"
   ]
  },
  {
   "cell_type": "code",
   "execution_count": 34,
   "id": "91fdfe02-e5b6-4391-8c9f-f0fa00394ed1",
   "metadata": {},
   "outputs": [
    {
     "data": {
      "text/plain": [
       "cfips                      int64\n",
       "county                    object\n",
       "state                     object\n",
       "first_day_of_month        object\n",
       "microbusiness_density    float64\n",
       "active                     int64\n",
       "dtype: object"
      ]
     },
     "execution_count": 34,
     "metadata": {},
     "output_type": "execute_result"
    }
   ],
   "source": [
    "train_csv.dtypes"
   ]
  },
  {
   "cell_type": "code",
   "execution_count": 35,
   "id": "2399ed78-31be-4565-82fa-179657234332",
   "metadata": {},
   "outputs": [
    {
     "data": {
      "text/plain": [
       "cfips                  int64\n",
       "first_day_of_month    object\n",
       "dtype: object"
      ]
     },
     "execution_count": 35,
     "metadata": {},
     "output_type": "execute_result"
    }
   ],
   "source": [
    "test_csv.dtypes"
   ]
  },
  {
   "cell_type": "markdown",
   "id": "eb771f35-a1b4-46f7-bcc9-29d8f50d645a",
   "metadata": {},
   "source": [
    "All columns are stored as appropriate datatypes. Categorical attributes are stored as objects, not strings, and quantitative variables are stored as integers. The target variable, `microbusiness_density`, is already stored as a float64 number."
   ]
  },
  {
   "cell_type": "code",
   "execution_count": 30,
   "id": "ef29ebcf-4bfa-4716-8056-134dc4a63eb8",
   "metadata": {},
   "outputs": [
    {
     "data": {
      "text/plain": [
       "cfips                    0\n",
       "county                   0\n",
       "state                    0\n",
       "first_day_of_month       0\n",
       "microbusiness_density    0\n",
       "active                   0\n",
       "dtype: int64"
      ]
     },
     "execution_count": 30,
     "metadata": {},
     "output_type": "execute_result"
    }
   ],
   "source": [
    "train_csv.isna().sum()"
   ]
  },
  {
   "cell_type": "code",
   "execution_count": 31,
   "id": "f6e95274-04ed-4946-bfec-d8ebd0952e64",
   "metadata": {},
   "outputs": [
    {
     "data": {
      "text/plain": [
       "cfips                 0\n",
       "first_day_of_month    0\n",
       "dtype: int64"
      ]
     },
     "execution_count": 31,
     "metadata": {},
     "output_type": "execute_result"
    }
   ],
   "source": [
    "test_csv.isna().sum()"
   ]
  },
  {
   "cell_type": "markdown",
   "id": "75b8e42f-02fb-4d1e-b5e8-01e6d3300152",
   "metadata": {},
   "source": [
    "The data is entirely filled, and contains no missing values to handle in any column"
   ]
  },
  {
   "cell_type": "markdown",
   "id": "e4fa2b21-f2af-43fe-9854-a05572dae6ec",
   "metadata": {},
   "source": [
    "## Εxploratory Data Analysis"
   ]
  },
  {
   "cell_type": "code",
   "execution_count": null,
   "id": "0c62b5da-8354-4c2b-af0c-f8d9ef05239d",
   "metadata": {},
   "outputs": [],
   "source": []
  }
 ],
 "metadata": {
  "kernelspec": {
   "display_name": "Python 3 (ipykernel)",
   "language": "python",
   "name": "python3"
  },
  "language_info": {
   "codemirror_mode": {
    "name": "ipython",
    "version": 3
   },
   "file_extension": ".py",
   "mimetype": "text/x-python",
   "name": "python",
   "nbconvert_exporter": "python",
   "pygments_lexer": "ipython3",
   "version": "3.8.13"
  }
 },
 "nbformat": 4,
 "nbformat_minor": 5
}
